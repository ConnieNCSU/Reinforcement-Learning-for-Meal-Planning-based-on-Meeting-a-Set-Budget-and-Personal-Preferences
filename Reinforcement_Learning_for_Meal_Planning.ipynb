{
  "cells": [
    {
      "cell_type": "markdown",
      "metadata": {
        "id": "view-in-github",
        "colab_type": "text"
      },
      "source": [
        "<a href=\"https://colab.research.google.com/github/ConnieNCSU/Reinforcement-Learning-for-Meal-Planning-based-on-Meeting-a-Set-Budget-and-Personal-Preferences/blob/main/Reinforcement_Learning_for_Meal_Planning.ipynb\" target=\"_parent\"><img src=\"https://colab.research.google.com/assets/colab-badge.svg\" alt=\"Open In Colab\"/></a>"
      ]
    },
    {
      "metadata": {
        "_uuid": "6624fb3ca54ae50cf2ca77fc2cd0c04ff713ac35",
        "id": "ecdHTMAeWLOM"
      },
      "cell_type": "markdown",
      "source": [
        "# Reinforcement Learning for Meal Planning based on Meeting a Set Budget and Personal Preferences"
      ]
    },
    {
      "metadata": {
        "_uuid": "c53ce7c333e0bf6f357b3efe990a6e044257e831",
        "id": "MZw6sqqbWLOO"
      },
      "cell_type": "markdown",
      "source": [
        "## Aim\n",
        "\n",
        "When food shopping, there are many different products for the same ingredient to choose from in supermarkets. Some are less expensive, others are of higher quality. I would like to create a model that, for the required ingredients, can select the optimal products required to make a meal to :\n",
        "\n",
        "1) recommend products below a budget\n",
        "2) recommend the cheapest products \n",
        "3) recommened the best products based on a preference that is still below a budget\n",
        "\n",
        "To do this, I will first build a very simple model that can recommend the products that are below my budgets before introducing my preferences.\n",
        "\n",
        "The reason we use a model is so that we could, in theory, scale the problem to consider more and more ingredients and products that would cause the problemt to then be beyond the possibility of any mental calculations.\n"
      ]
    },
    {
      "metadata": {
        "_uuid": "309d875421b01fe337f15f24283f9a6eb8456d7d",
        "id": "xCKx2DvQWLOO"
      },
      "cell_type": "markdown",
      "source": [
        "## Method\n",
        "\n",
        "To achieve this, I will be bulding a simple reinforcement learning model and use **Montel Carlo learning** to find the optimal combination of products.\n",
        "\n",
        "First, let us formally define the parts of our model as a **Markov Decision Process**:\n",
        "\n",
        "- We have a finite number of ingredients required to make any meal and are considered to be our **States**\n",
        "- There are the finite possible products for each ingredient and are therefore the **Actions of each state**\n",
        "- Our preferences become the **Individual Rewards** for selecting each product, we will cover this in more detail later\n",
        "\n",
        "Monte Carlo learning takes the combined the quality of each step towards reaching an end goal and requires that, in order to assess the quality of any step, we must wait and see the outcome of the whole combination. \n",
        "\n",
        "Monte Carlo is often avoided due to the time required to go through the whole process before being able to learn. However, in our problem it is required as our final check when establishing whether the combination of products selected is good or bad is to add up the real cost of those selected and check whether or not this is below or above our budget. Futhermore, at least at this stage, we will not be considering more than a few ingredients and so the time taken is not significant in this regard.\n",
        "\n"
      ]
    },
    {
      "metadata": {
        "_uuid": "1ced4abbbe247e40ed55618e1600a63399215966",
        "id": "2JrRzwfUWLOP"
      },
      "cell_type": "markdown",
      "source": [
        "## Sample Data\n",
        "\n",
        "For this demonstration, I have created some sample data for a meal where we have 4 ingredients and 9 products, as shown in the digram below. \n",
        "\n",
        "We need to select one product for each ingredient in the meal.\n",
        "\n",
        "This means we have 2 x 2 x 2 x 3 = 24 possible selections of products for the 4 ingredients.\n",
        "\n",
        "I have also included the real cost for each product and V_0. \n",
        "\n",
        "V_0 is simply the initial quality of each product to meet our requirements and we set this to 0 for each.\n"
      ]
    },
    {
      "metadata": {
        "collapsed": true,
        "trusted": true,
        "_uuid": "33386d7b6704a1b51842be28a4a0857ee6f58b43",
        "id": "Li9nY58BWLOP"
      },
      "cell_type": "code",
      "source": [
        "import pandas as pd\n",
        "import numpy as np\n",
        "import matplotlib.pyplot as plt\n",
        "\n",
        "import warnings\n",
        "warnings.filterwarnings('ignore')\n",
        "\n",
        "import time\n"
      ],
      "execution_count": 2,
      "outputs": []
    },
    {
      "metadata": {
        "trusted": true,
        "_uuid": "3d7d841000db7cfa3136e936d45492b1e38b87a0",
        "colab": {
          "base_uri": "https://localhost:8080/"
        },
        "id": "SPkKo04lWLOQ",
        "outputId": "976ad2d9-1171-487b-e144-5bdd26c2b3e8"
      },
      "cell_type": "code",
      "source": [
        "from google.colab import drive\n",
        "\n",
        "drive.mount('/content/gdrive/')\n",
        "data=pd.read_csv('/content/gdrive/My Drive/SampleData.csv')\n",
        "\n"
      ],
      "execution_count": 3,
      "outputs": [
        {
          "output_type": "stream",
          "name": "stdout",
          "text": [
            "Mounted at /content/gdrive/\n"
          ]
        }
      ]
    },
    {
      "metadata": {
        "trusted": true,
        "_uuid": "40c2e12ef48d0c06bf23191d2791b4e81cbf9725",
        "colab": {
          "base_uri": "https://localhost:8080/",
          "height": 332
        },
        "id": "lwC4P5ogWLOQ",
        "outputId": "f1b54322-6eef-4993-ac3d-d7e2ea8f04cf"
      },
      "cell_type": "code",
      "source": [
        "data"
      ],
      "execution_count": 4,
      "outputs": [
        {
          "output_type": "execute_result",
          "data": {
            "text/plain": [
              "   Ingredient  Product  QMerged_label  Real_Cost  V_0\n",
              "0           1        1             11         10    0\n",
              "1           1        2             12          6    0\n",
              "2           2        1             21          8    0\n",
              "3           2        2             22         11    0\n",
              "4           3        1             31          3    0\n",
              "5           3        2             32          7    0\n",
              "6           4        1             41          8    0\n",
              "7           4        2             42          5    0\n",
              "8           4        3             43          1    0"
            ],
            "text/html": [
              "\n",
              "  <div id=\"df-bf5976dd-d319-446e-8635-dc69e9c89c6d\">\n",
              "    <div class=\"colab-df-container\">\n",
              "      <div>\n",
              "<style scoped>\n",
              "    .dataframe tbody tr th:only-of-type {\n",
              "        vertical-align: middle;\n",
              "    }\n",
              "\n",
              "    .dataframe tbody tr th {\n",
              "        vertical-align: top;\n",
              "    }\n",
              "\n",
              "    .dataframe thead th {\n",
              "        text-align: right;\n",
              "    }\n",
              "</style>\n",
              "<table border=\"1\" class=\"dataframe\">\n",
              "  <thead>\n",
              "    <tr style=\"text-align: right;\">\n",
              "      <th></th>\n",
              "      <th>Ingredient</th>\n",
              "      <th>Product</th>\n",
              "      <th>QMerged_label</th>\n",
              "      <th>Real_Cost</th>\n",
              "      <th>V_0</th>\n",
              "    </tr>\n",
              "  </thead>\n",
              "  <tbody>\n",
              "    <tr>\n",
              "      <th>0</th>\n",
              "      <td>1</td>\n",
              "      <td>1</td>\n",
              "      <td>11</td>\n",
              "      <td>10</td>\n",
              "      <td>0</td>\n",
              "    </tr>\n",
              "    <tr>\n",
              "      <th>1</th>\n",
              "      <td>1</td>\n",
              "      <td>2</td>\n",
              "      <td>12</td>\n",
              "      <td>6</td>\n",
              "      <td>0</td>\n",
              "    </tr>\n",
              "    <tr>\n",
              "      <th>2</th>\n",
              "      <td>2</td>\n",
              "      <td>1</td>\n",
              "      <td>21</td>\n",
              "      <td>8</td>\n",
              "      <td>0</td>\n",
              "    </tr>\n",
              "    <tr>\n",
              "      <th>3</th>\n",
              "      <td>2</td>\n",
              "      <td>2</td>\n",
              "      <td>22</td>\n",
              "      <td>11</td>\n",
              "      <td>0</td>\n",
              "    </tr>\n",
              "    <tr>\n",
              "      <th>4</th>\n",
              "      <td>3</td>\n",
              "      <td>1</td>\n",
              "      <td>31</td>\n",
              "      <td>3</td>\n",
              "      <td>0</td>\n",
              "    </tr>\n",
              "    <tr>\n",
              "      <th>5</th>\n",
              "      <td>3</td>\n",
              "      <td>2</td>\n",
              "      <td>32</td>\n",
              "      <td>7</td>\n",
              "      <td>0</td>\n",
              "    </tr>\n",
              "    <tr>\n",
              "      <th>6</th>\n",
              "      <td>4</td>\n",
              "      <td>1</td>\n",
              "      <td>41</td>\n",
              "      <td>8</td>\n",
              "      <td>0</td>\n",
              "    </tr>\n",
              "    <tr>\n",
              "      <th>7</th>\n",
              "      <td>4</td>\n",
              "      <td>2</td>\n",
              "      <td>42</td>\n",
              "      <td>5</td>\n",
              "      <td>0</td>\n",
              "    </tr>\n",
              "    <tr>\n",
              "      <th>8</th>\n",
              "      <td>4</td>\n",
              "      <td>3</td>\n",
              "      <td>43</td>\n",
              "      <td>1</td>\n",
              "      <td>0</td>\n",
              "    </tr>\n",
              "  </tbody>\n",
              "</table>\n",
              "</div>\n",
              "      <button class=\"colab-df-convert\" onclick=\"convertToInteractive('df-bf5976dd-d319-446e-8635-dc69e9c89c6d')\"\n",
              "              title=\"Convert this dataframe to an interactive table.\"\n",
              "              style=\"display:none;\">\n",
              "        \n",
              "  <svg xmlns=\"http://www.w3.org/2000/svg\" height=\"24px\"viewBox=\"0 0 24 24\"\n",
              "       width=\"24px\">\n",
              "    <path d=\"M0 0h24v24H0V0z\" fill=\"none\"/>\n",
              "    <path d=\"M18.56 5.44l.94 2.06.94-2.06 2.06-.94-2.06-.94-.94-2.06-.94 2.06-2.06.94zm-11 1L8.5 8.5l.94-2.06 2.06-.94-2.06-.94L8.5 2.5l-.94 2.06-2.06.94zm10 10l.94 2.06.94-2.06 2.06-.94-2.06-.94-.94-2.06-.94 2.06-2.06.94z\"/><path d=\"M17.41 7.96l-1.37-1.37c-.4-.4-.92-.59-1.43-.59-.52 0-1.04.2-1.43.59L10.3 9.45l-7.72 7.72c-.78.78-.78 2.05 0 2.83L4 21.41c.39.39.9.59 1.41.59.51 0 1.02-.2 1.41-.59l7.78-7.78 2.81-2.81c.8-.78.8-2.07 0-2.86zM5.41 20L4 18.59l7.72-7.72 1.47 1.35L5.41 20z\"/>\n",
              "  </svg>\n",
              "      </button>\n",
              "      \n",
              "  <style>\n",
              "    .colab-df-container {\n",
              "      display:flex;\n",
              "      flex-wrap:wrap;\n",
              "      gap: 12px;\n",
              "    }\n",
              "\n",
              "    .colab-df-convert {\n",
              "      background-color: #E8F0FE;\n",
              "      border: none;\n",
              "      border-radius: 50%;\n",
              "      cursor: pointer;\n",
              "      display: none;\n",
              "      fill: #1967D2;\n",
              "      height: 32px;\n",
              "      padding: 0 0 0 0;\n",
              "      width: 32px;\n",
              "    }\n",
              "\n",
              "    .colab-df-convert:hover {\n",
              "      background-color: #E2EBFA;\n",
              "      box-shadow: 0px 1px 2px rgba(60, 64, 67, 0.3), 0px 1px 3px 1px rgba(60, 64, 67, 0.15);\n",
              "      fill: #174EA6;\n",
              "    }\n",
              "\n",
              "    [theme=dark] .colab-df-convert {\n",
              "      background-color: #3B4455;\n",
              "      fill: #D2E3FC;\n",
              "    }\n",
              "\n",
              "    [theme=dark] .colab-df-convert:hover {\n",
              "      background-color: #434B5C;\n",
              "      box-shadow: 0px 1px 3px 1px rgba(0, 0, 0, 0.15);\n",
              "      filter: drop-shadow(0px 1px 2px rgba(0, 0, 0, 0.3));\n",
              "      fill: #FFFFFF;\n",
              "    }\n",
              "  </style>\n",
              "\n",
              "      <script>\n",
              "        const buttonEl =\n",
              "          document.querySelector('#df-bf5976dd-d319-446e-8635-dc69e9c89c6d button.colab-df-convert');\n",
              "        buttonEl.style.display =\n",
              "          google.colab.kernel.accessAllowed ? 'block' : 'none';\n",
              "\n",
              "        async function convertToInteractive(key) {\n",
              "          const element = document.querySelector('#df-bf5976dd-d319-446e-8635-dc69e9c89c6d');\n",
              "          const dataTable =\n",
              "            await google.colab.kernel.invokeFunction('convertToInteractive',\n",
              "                                                     [key], {});\n",
              "          if (!dataTable) return;\n",
              "\n",
              "          const docLinkHtml = 'Like what you see? Visit the ' +\n",
              "            '<a target=\"_blank\" href=https://colab.research.google.com/notebooks/data_table.ipynb>data table notebook</a>'\n",
              "            + ' to learn more about interactive tables.';\n",
              "          element.innerHTML = '';\n",
              "          dataTable['output_type'] = 'display_data';\n",
              "          await google.colab.output.renderOutput(dataTable, element);\n",
              "          const docLink = document.createElement('div');\n",
              "          docLink.innerHTML = docLinkHtml;\n",
              "          element.appendChild(docLink);\n",
              "        }\n",
              "      </script>\n",
              "    </div>\n",
              "  </div>\n",
              "  "
            ]
          },
          "metadata": {},
          "execution_count": 4
        }
      ]
    },
    {
      "metadata": {
        "_uuid": "c8f061ce951104cad898aa85cd07e6d16c0ebc13",
        "id": "8J6jZg-cWLOR"
      },
      "cell_type": "markdown",
      "source": [
        "## Applying the Model in Theory\n",
        "\n",
        "For now, I will not introduce any individual rewards for the procuts. Intead, I will simply focus on whether the combination of products selected is below our budget or not. This outcome is defined as the **Terminal Reward** of our problem.\n",
        "\n",
        "For example, say we have a budget of £30, then the choice:\n",
        "\n",
        "$$a1 \\rightarrow b1 \\rightarrow c1 \\rightarrow d1$$\n",
        "    \n",
        "Then the real cost of this selection is:\n",
        "\n",
        "$$£10 + £8 + £3 + £8 = £29 < £30$$\n",
        "\n",
        "And therefore, our terminal reward is:\n",
        "\n",
        "$$R_T = +1$$\n",
        "    \n",
        "Whereas, \n",
        "\n",
        "$$a2 \\rightarrow b2 \\rightarrow c2 \\rightarrow d1$$\n",
        "    \n",
        "Then the real cost of this selection is:\n",
        "\n",
        "$$£6 + £11 + £7 + £8 = £32 > £30$$\n",
        "\n",
        "And therefore, our terminal reward is:\n",
        "\n",
        "$$R_T = -1$$\n",
        "    \n",
        "\n",
        "For now, we are simply telling our model whether the choice is good or bad and will observe what this does to the results."
      ]
    },
    {
      "metadata": {
        "_uuid": "d8cb3d4390dcad6bd7744563357464a93a5db3f8",
        "id": "I93yL_MAWLOX"
      },
      "cell_type": "markdown",
      "source": [
        "### Model Learning\n",
        "\n",
        "So how does our model actually learn? In short, we get our model to try out lots of combinations of proucts and at the end of each tell it whether its choice was good or bad. Over time, it will recognise that some products generally lead to getting a good outcome while others do not.\n",
        "\n",
        "What we end up creating are values for how good each product is, denoted V(a). We have already introduced the initial V(a) for each product but how do we reach go from these initial values to actually being able to make a decision?\n",
        "\n",
        "For this, we need an **Update Rule**. This tells the model, after each time it has presented its choice of products and we have told it whether it's selection is good or bad, how to add this to our initial values. \n",
        "\n",
        "Our update rule is as follows:\n",
        "    \n",
        "$$V(a) \\leftarrow V(a) + \\alpha*(G - V(a))$$\n",
        "    \n",
        "This may look unusual at first but in words we are simply updating the value of any action, V(a), **by an amount that is either a little more if the outcome was good or a little less if the outcome was bad.** \n",
        "\n",
        "\n",
        "G is the **Return** and is simply to total reward obtained. Currently in our example, this is simply the terminal reward (+1 or -1 accordingly). We will reintroduce this later when we include individual product rewards.\n",
        "\n",
        "Alpha, $\\alpha$, is the **Learning Rate** and we will demonstrate how this effects the results more later but just for now, the simple explination is: \"The learning rate determines to what extent newly acquired information overrides old information. A factor of 0 makes the agent learn nothing, while a factor of 1 makes the agent consider only the most recent information.\" (https://en.wikipedia.org/wiki/Q-learning)"
      ]
    },
    {
      "metadata": {
        "_uuid": "db4a670d7bcf337d4b8be6f29dee06729fa3ec15",
        "id": "9b-todNcWLOX"
      },
      "cell_type": "markdown",
      "source": [
        "### Small Demo of Updating Values\n",
        "\n",
        "So how do we actually use this with our model?\n",
        "\n",
        "Let us start with a table that has each product and its initial V_0(a):\n",
        "\n",
        "|Product|V_0(a)|\n",
        "|:-----:|:----:|\n",
        "|   a1  |   0  |\n",
        "|   a2  |   0  |\n",
        "|   b1  |   0  |\n",
        "|   b2  |   0  |\n",
        "|   c1  |   0  |\n",
        "|   c2  |   0  |\n",
        "|   d1  |   0  |\n",
        "|   d2  |   0  |\n",
        "|   d3  |   0  |\n",
        "\n",
        "---\n",
        "We now pick a random selection of products, each cobination is known as an **episode**. We also set $\\alpha = 0.5$ for now just for simpicity in the calculations.\n",
        "\n",
        "e.g.\n",
        "\n",
        "$$a1 \\rightarrow b1 \\rightarrow c1 \\rightarrow d1$$ \n",
        "\n",
        "Provides:\n",
        "  \n",
        "$$Total Cost = £29 < £30$$\n",
        "\n",
        "Therefore:\n",
        "    \n",
        "$$R_T = +1$$\n",
        "    \n",
        "\n",
        "\n",
        "Now applying our update rule to a1:\n",
        "\n",
        "$$V_1(a1) <- V_0(a1) + \\alpha*( G - V_0(a1))$$\n",
        "    \n",
        "$$\\implies V_1(a1) <- 0 + 0.5*( 1 - 0) = 0.5$$\n",
        "\n",
        "\n",
        "Therefore, all actions that lead to this positive outcome are updated as well to produced the following table with V1(a):\n",
        "\n",
        "|Product|V_0(a)|V_1(a)|\n",
        "|:-----:|:----:|:----:|\n",
        "|   a1  |   0  |  0.5 |\n",
        "|   a2  |   0  |   0  |\n",
        "|   b1  |   0  |  0.5 |\n",
        "|   b2  |   0  |   0  |\n",
        "|   c1  |   0  |  0.5 |\n",
        "|   c2  |   0  |   0  |\n",
        "|   d1  |   0  |  0.5 |\n",
        "|   d2  |   0  |   0  |\n",
        "|   d3  |   0  |   0  |\n",
        "\n",
        "---\n",
        "So let us pick another random episode:\n",
        "\n",
        "$$a1 \\rightarrow b2 \\rightarrow c2 \\rightarrow d1$$\n",
        "\n",
        "Provides:\n",
        "  \n",
        "$$Total Cost = £36 > £30$$\n",
        "\n",
        "Therefore:\n",
        "    \n",
        "$$R_T = -1$$\n",
        "    \n",
        "\n",
        "\n",
        "Now applying our update rule to a1:\n",
        "\n",
        "\n",
        "\n",
        "$$V_2(a1) \\leftarrow V_1(a1) + \\alpha * ( G - V_1(a1))$$\n",
        "\n",
        "  \n",
        "$$\\implies V_2(a1) \\leftarrow 0.5 + 0.5*( -1 - 0.5) = 0.5 - 0.75$$\n",
        "\n",
        "\n",
        "$$\\implies V_2(a1) \\leftarrow -0.25$$\n",
        "\n",
        "\n",
        "\n",
        "and likewise for d1.\n",
        "\n",
        "Whereas the updated value for b2 is:\n",
        "\n",
        "$$V_2(b2) \\leftarrow V_1(b2) + \\alpha*( G - V_1(b2))$$\n",
        "    \n",
        "$$\\implies V_2(b2) \\leftarrow 0 + 0.5*( -1 - 0) = -0.5$$\n",
        "    \n",
        "and likewise for c2.\n",
        "\n",
        "\n",
        "Therefore, we can add V2(a) to our table:\n",
        "\n",
        "|Product|V_0(a)|V_1(a)|V_2(a)|\n",
        "|:-----:|:----:|:----:|:----:|\n",
        "|   a1  |   0  |  0.5 | -0.25|\n",
        "|   a2  |   0  |   0  |   0  |\n",
        "|   b1  |   0  |  0.5 | 0.5  |\n",
        "|   b2  |   0  |   0  | -0.5 |\n",
        "|   c1  |   0  |  0.5 | 0.5  |\n",
        "|   c2  |   0  |   0  | -0.5 |\n",
        "|   d1  |   0  |  0.5 | -0.25|\n",
        "|   d2  |   0  |   0  |   0  |\n",
        "|   d3  |   0  |   0  |   0  |\n",
        "\n",
        "\n"
      ]
    },
    {
      "metadata": {
        "_uuid": "9664a75499ca9a2774619bfb109914535f4e962f",
        "id": "x2Dl6Zu4WLOY"
      },
      "cell_type": "markdown",
      "source": [
        "## Action Selection\n",
        "\n",
        "You may have noticed in the demo, I have simply randomly selected the products in each episode. We could do this but using a completely random selection process may mean that some actions are not selected often enough to know whether they are good or bad.\n",
        "\n",
        "Similarly, if we went to other way and decided to select the products greedily, i.e. to ones that currently have the best value, we may miss one that is in fact better but never given a chance. For example, if we chose the best actions from V2(a) we would get a2, b1, c1 and d2 or d3 which both provide a positive terminal reward therefore, if we used a purely greedy selection process, we would never consider any other products as these continue to provide a positiv outcome. \n",
        "\n",
        "Instead, we implement **epsilon-greedy** action selection where we randomly select products with probablity $\\epsilon$, and greedily select products with probability $1-\\epsilon$ where:\n",
        "\n",
        "\n",
        "$$0 \\leq  \\epsilon \\leq  1$$\n",
        "    \n",
        "This means that we are going reach the optimal choice of products quickly as we continue to test whether the 'good' products are in fact optimal but also leaves room for us to also explore other products occasionally just to make sure they aren't as good as our current choice. \n",
        "\n"
      ]
    },
    {
      "metadata": {
        "_uuid": "ae39f993f0b53cf5b7c17435ca06f3e255607cf3",
        "id": "rbS9RToIWLOY"
      },
      "cell_type": "markdown",
      "source": [
        "# Building and Applying our Model"
      ]
    },
    {
      "metadata": {
        "_uuid": "02cba2536832084bf9781a15123db1fac61a337a",
        "id": "ZZdLVuAEWLOY"
      },
      "cell_type": "markdown",
      "source": [
        "We are now ready to build a simple model as shown in the MCModelv1 function below.\n",
        "\n",
        "Although this seems complex, I have done nothing more than apply the methods previously discussed in such a way that we can vary the inputs and still obtain reqults. Admittedly, this was my first attempt at doing this and so my coding may not be perfectly written but should be sufficient for our requirements. \n",
        "\n",
        "\n",
        "To calculate the terminal reward, we currently use the following condition to check if the total cost is less or more than our budget:\n",
        "\n",
        "    if(budget >= episode2['Real_Cost'].sum()):\n",
        "        Return = 1  \n",
        "    else:\n",
        "        Return = -1\n",
        "        \n",
        "\n"
      ]
    },
    {
      "metadata": {
        "collapsed": true,
        "trusted": true,
        "_uuid": "f2f37b0be5ab5ecd0b74a482c6ce1c4e75b1523e",
        "id": "J-bOBiHzWLOY"
      },
      "cell_type": "code",
      "source": [
        "def MCModelv1(data, alpha, e, epsilon, budget, reward):\n",
        "    # Define the States\n",
        "    Ingredients = list(set(data['Ingredient']))\n",
        "    # Initialise V_0\n",
        "    V0 = data['V_0']\n",
        "    data['V'] = V0\n",
        "    output = []\n",
        "    output1 = []\n",
        "    output2 = []\n",
        "    actioninfull = []\n",
        "    #Interate over the number of episodes specified\n",
        "    for e in range(0,e):\n",
        "        \n",
        "        episode_run = []\n",
        "        #Introduce epsilon-greedy selection, we randomly select the first episode as V_0(a) = 0 for all actions\n",
        "        epsilon = epsilon\n",
        "        if e == 0:\n",
        "            for i in range(0,len(Ingredients)):\n",
        "                episode_run = np.append(episode_run,np.random.random_integers(low = 1, high = sum(1 for p in data.iloc[:, 0] if p == i+1 ), size = None))\n",
        "            episode_run = episode_run.astype(int)\n",
        "        \n",
        "        else:\n",
        "            for i in range(0,len(Ingredients)):\n",
        "                greedyselection = np.random.random_integers(low = 1, high =10)\n",
        "                if greedyselection <= (epsilon)*10:\n",
        "                    episode_run = np.append(episode_run,np.random.random_integers(low = 1, high = sum(1 for p in data.iloc[:, 0] if p == i+1 ), size = None))\n",
        "                else:\n",
        "                    data_I = data[data['Ingredient'] == (i+1)] \n",
        "                    MaxofVforI = data_I[data_I['V'] == data_I['V'].max() ]['Product']\n",
        "                    #If multiple max values, take first\n",
        "                    MaxofVforI = MaxofVforI.values[0]\n",
        "                    episode_run = np.append(episode_run, MaxofVforI)\n",
        "                    \n",
        "                episode_run = episode_run.astype(int)\n",
        "                \n",
        "               \n",
        "           \n",
        "        episode = pd.DataFrame({'Ingredient' : Ingredients, 'Product': episode_run})    \n",
        "        episode['Merged_label'] =  (episode['Ingredient']*10 + episode['Product']).astype(float)\n",
        "        data['QMerged_label'] = (data['QMerged_label']).astype(float)\n",
        "        data['Reward'] = reward\n",
        "        episode2 =  episode.merge(data[['QMerged_label','Real_Cost','Reward']], left_on='Merged_label',right_on='QMerged_label', how = 'inner')\n",
        "        data = data.drop('Reward',1)\n",
        "        \n",
        "        # Calculate our terminal reward\n",
        "        if(budget >= episode2['Real_Cost'].sum()):\n",
        "            Return = 1  \n",
        "        else:\n",
        "            Return = -1 \n",
        "        episode2 = episode2.drop('Reward',1)\n",
        "        episode2['Return'] = Return\n",
        "        \n",
        "        # Apply update rule to actions that were involved in obtaining terminal reward \n",
        "        data = data.merge(episode2[['Merged_label','Return']], left_on='QMerged_label',right_on='Merged_label', how = 'outer')\n",
        "        data['Return'] = data['Return'].fillna(0)\n",
        "        for v in range(0,len(data)):\n",
        "            if data.iloc[v,7] == 0:\n",
        "                data.iloc[v,5] = data.iloc[v,5] \n",
        "            else:\n",
        "                data.iloc[v,5]  = data.iloc[v,5]  + alpha*( (data.iloc[v,7]/len(Ingredients)) - data.iloc[v,5] )\n",
        "                \n",
        "        # Output table    \n",
        "        data = data.drop('Merged_label',1)\n",
        "        data = data.drop('Return',1)\n",
        "        \n",
        "        # Output is the Sum of V(a) for all episodes\n",
        "        output  = np.append(output, data.iloc[:,-1].sum())\n",
        "        \n",
        "        # Output 1 and 2 are the Sum of V(a) for for the cheapest actions and rest respectively\n",
        "        # I did this so we can copare how they converge whilst applying to such a small sample problem\n",
        "        output1 = np.append(output1, data.iloc[[1,2,4,8],-1].sum())\n",
        "        output2 = np.append(output2, data.iloc[[0,3,5,6,7],-1].sum())\n",
        "        \n",
        "        # Ouput to optimal action from the model based on highest V(a)\n",
        "        action = pd.DataFrame(data.groupby('Ingredient')['V'].max())\n",
        "        action2 = action.merge(data, left_on = 'V',right_on = 'V', how = 'inner')\n",
        "        action3 = action2[['Ingredient','Product']]\n",
        "        action3 = action3.groupby('Ingredient')['Product'].apply(lambda x :x.iloc[np.random.randint(0, len(x))])\n",
        "        \n",
        "        # Output the optimal action at each episode so we can see how this changes over time\n",
        "        actioninfull = np.append(actioninfull, action3)\n",
        "        actioninfull = actioninfull.astype(int)\n",
        "        \n",
        "        # Rename for clarity\n",
        "        SumofV = output\n",
        "        SumofVForCheapest = output1\n",
        "        SumofVForExpensive = output2\n",
        "        OptimalActions = action3\n",
        "        ActionsSelectedinTime = actioninfull\n",
        "        \n",
        "    return(SumofV, SumofVForCheapest, SumofVForExpensive, OptimalActions, data, ActionsSelectedinTime)\n",
        "\n",
        "\n"
      ],
      "execution_count": 5,
      "outputs": []
    },
    {
      "metadata": {
        "_uuid": "75bcc1a237213002de82b46ec4b5a34f1704a796",
        "id": "6Ns_eIuCWLOZ"
      },
      "cell_type": "markdown",
      "source": [
        "### We now run our model with some sample variables:"
      ]
    },
    {
      "metadata": {
        "trusted": true,
        "_uuid": "d2b42e574790be8a6cb696f95c1bebd25696d21d",
        "colab": {
          "base_uri": "https://localhost:8080/"
        },
        "id": "jNf2c5jgWLOZ",
        "outputId": "5253b01a-55cb-482e-ff14-5d892c2d1a72"
      },
      "cell_type": "code",
      "source": [
        "alpha = 0.1\n",
        "num_episodes = 100\n",
        "epsilon = 0.5\n",
        "budget = 30\n",
        "\n",
        "# Currently not using a reward\n",
        "reward = [0,0,0,0,0,0,0,0,0]\n",
        "\n",
        "start_time = time.time()\n",
        "\n",
        "Mdl = MCModelv1(data=data, alpha = alpha, e = num_episodes,epsilon = epsilon, budget = budget, reward = reward)\n",
        "\n",
        "print(\"--- %s seconds ---\" % (time.time() - start_time))"
      ],
      "execution_count": 6,
      "outputs": [
        {
          "output_type": "stream",
          "name": "stdout",
          "text": [
            "--- 2.0377824306488037 seconds ---\n"
          ]
        }
      ]
    },
    {
      "metadata": {
        "_uuid": "8ba124da82c4b87c648da69f4d8b7e09f682ace6",
        "id": "HMvNDsZ8WLOZ"
      },
      "cell_type": "markdown",
      "source": [
        "In our function, we have 6 outputs from the model.\n",
        "\n",
        "- Mdl[0]: Returns the Sum of all V(a) for each episode\n",
        "\n",
        "- Mdl[1]: Returns to Sum of V(a) for the cheapest products, possible to define due to the simplicity of our sample data\n",
        "\n",
        "- Mdl[2]: Returns the Sum of V(a) for the non-cheapest products\n",
        "\n",
        "- Mdl[3]: Returns the optimal actions of the final episode\n",
        "\n",
        "- Mdl[4]: Returns the data table with the final V(a) added for each product\n",
        "\n",
        "- Mdl[5]: Shows the optimal action at each epsiode\n",
        "\n",
        "There is a lot to take away from these so let us go through each and establish what we can learn to improve our model.\n",
        "\n"
      ]
    },
    {
      "metadata": {
        "_uuid": "bcdb7a66bc747bec906d8f8e7bc2d2cb96999551",
        "id": "Osgk3_p4WLOZ"
      },
      "cell_type": "markdown",
      "source": [
        "#### Optimal actions of final episode\n",
        "\n",
        "First, lets see what the model suggest we should select. In this run it suggests actions, or products, that have a total cost below budget which is good.\n",
        "\n",
        "However, there is still more that we can check to help us understand what is going on.\n",
        "\n",
        "\n",
        "First, we can plot the total V for all actions and we see that this is converging which is ideal. We want our model to converge so that as we try more episodes we are 'zoning-in' on the optimal choice of products. The reason the output converges is because we are reducing the amount it learns each time by a factor of $\\alpha$, in this case 0.5. We will show later what happens if we vary this or don't apply this at all.\n",
        "\n",
        "We have also plotted the sum of V for the produts we know are cheapest, based on being able to assess the small sample size, and the others seperately. Again, both are converging positively although the cheaper products appear to have slightly higher values.\n",
        "\n",
        "\n"
      ]
    },
    {
      "metadata": {
        "trusted": false,
        "_uuid": "5073a92e9ac087ee29ba16b6c89993c7a324dc1f",
        "colab": {
          "base_uri": "https://localhost:8080/",
          "height": 436
        },
        "id": "79cPdo_VWLOa",
        "outputId": "009580dd-82fb-438b-e3ad-a1808b3177be"
      },
      "cell_type": "code",
      "source": [
        "print(Mdl[3])\n",
        "\n",
        "Mdl[4]\n"
      ],
      "execution_count": 7,
      "outputs": [
        {
          "output_type": "stream",
          "name": "stdout",
          "text": [
            "Ingredient\n",
            "1    2\n",
            "2    1\n",
            "3    1\n",
            "4    2\n",
            "Name: Product, dtype: int64\n"
          ]
        },
        {
          "output_type": "execute_result",
          "data": {
            "text/plain": [
              "   Ingredient  Product  QMerged_label  Real_Cost  V_0         V\n",
              "0           1        1           11.0         10    0  0.119909\n",
              "1           1        2           12.0          6    0  0.249925\n",
              "2           2        1           21.0          8    0  0.249886\n",
              "3           2        2           22.0         11    0  0.167747\n",
              "4           3        1           31.0          3    0  0.228416\n",
              "5           3        2           32.0          7    0  0.156122\n",
              "6           4        1           41.0          8    0  0.166229\n",
              "7           4        2           42.0          5    0  0.226637\n",
              "8           4        3           43.0          1    0  0.208307"
            ],
            "text/html": [
              "\n",
              "  <div id=\"df-94bd0535-de3a-4c43-bfcd-d7ac30a04c24\">\n",
              "    <div class=\"colab-df-container\">\n",
              "      <div>\n",
              "<style scoped>\n",
              "    .dataframe tbody tr th:only-of-type {\n",
              "        vertical-align: middle;\n",
              "    }\n",
              "\n",
              "    .dataframe tbody tr th {\n",
              "        vertical-align: top;\n",
              "    }\n",
              "\n",
              "    .dataframe thead th {\n",
              "        text-align: right;\n",
              "    }\n",
              "</style>\n",
              "<table border=\"1\" class=\"dataframe\">\n",
              "  <thead>\n",
              "    <tr style=\"text-align: right;\">\n",
              "      <th></th>\n",
              "      <th>Ingredient</th>\n",
              "      <th>Product</th>\n",
              "      <th>QMerged_label</th>\n",
              "      <th>Real_Cost</th>\n",
              "      <th>V_0</th>\n",
              "      <th>V</th>\n",
              "    </tr>\n",
              "  </thead>\n",
              "  <tbody>\n",
              "    <tr>\n",
              "      <th>0</th>\n",
              "      <td>1</td>\n",
              "      <td>1</td>\n",
              "      <td>11.0</td>\n",
              "      <td>10</td>\n",
              "      <td>0</td>\n",
              "      <td>0.119909</td>\n",
              "    </tr>\n",
              "    <tr>\n",
              "      <th>1</th>\n",
              "      <td>1</td>\n",
              "      <td>2</td>\n",
              "      <td>12.0</td>\n",
              "      <td>6</td>\n",
              "      <td>0</td>\n",
              "      <td>0.249925</td>\n",
              "    </tr>\n",
              "    <tr>\n",
              "      <th>2</th>\n",
              "      <td>2</td>\n",
              "      <td>1</td>\n",
              "      <td>21.0</td>\n",
              "      <td>8</td>\n",
              "      <td>0</td>\n",
              "      <td>0.249886</td>\n",
              "    </tr>\n",
              "    <tr>\n",
              "      <th>3</th>\n",
              "      <td>2</td>\n",
              "      <td>2</td>\n",
              "      <td>22.0</td>\n",
              "      <td>11</td>\n",
              "      <td>0</td>\n",
              "      <td>0.167747</td>\n",
              "    </tr>\n",
              "    <tr>\n",
              "      <th>4</th>\n",
              "      <td>3</td>\n",
              "      <td>1</td>\n",
              "      <td>31.0</td>\n",
              "      <td>3</td>\n",
              "      <td>0</td>\n",
              "      <td>0.228416</td>\n",
              "    </tr>\n",
              "    <tr>\n",
              "      <th>5</th>\n",
              "      <td>3</td>\n",
              "      <td>2</td>\n",
              "      <td>32.0</td>\n",
              "      <td>7</td>\n",
              "      <td>0</td>\n",
              "      <td>0.156122</td>\n",
              "    </tr>\n",
              "    <tr>\n",
              "      <th>6</th>\n",
              "      <td>4</td>\n",
              "      <td>1</td>\n",
              "      <td>41.0</td>\n",
              "      <td>8</td>\n",
              "      <td>0</td>\n",
              "      <td>0.166229</td>\n",
              "    </tr>\n",
              "    <tr>\n",
              "      <th>7</th>\n",
              "      <td>4</td>\n",
              "      <td>2</td>\n",
              "      <td>42.0</td>\n",
              "      <td>5</td>\n",
              "      <td>0</td>\n",
              "      <td>0.226637</td>\n",
              "    </tr>\n",
              "    <tr>\n",
              "      <th>8</th>\n",
              "      <td>4</td>\n",
              "      <td>3</td>\n",
              "      <td>43.0</td>\n",
              "      <td>1</td>\n",
              "      <td>0</td>\n",
              "      <td>0.208307</td>\n",
              "    </tr>\n",
              "  </tbody>\n",
              "</table>\n",
              "</div>\n",
              "      <button class=\"colab-df-convert\" onclick=\"convertToInteractive('df-94bd0535-de3a-4c43-bfcd-d7ac30a04c24')\"\n",
              "              title=\"Convert this dataframe to an interactive table.\"\n",
              "              style=\"display:none;\">\n",
              "        \n",
              "  <svg xmlns=\"http://www.w3.org/2000/svg\" height=\"24px\"viewBox=\"0 0 24 24\"\n",
              "       width=\"24px\">\n",
              "    <path d=\"M0 0h24v24H0V0z\" fill=\"none\"/>\n",
              "    <path d=\"M18.56 5.44l.94 2.06.94-2.06 2.06-.94-2.06-.94-.94-2.06-.94 2.06-2.06.94zm-11 1L8.5 8.5l.94-2.06 2.06-.94-2.06-.94L8.5 2.5l-.94 2.06-2.06.94zm10 10l.94 2.06.94-2.06 2.06-.94-2.06-.94-.94-2.06-.94 2.06-2.06.94z\"/><path d=\"M17.41 7.96l-1.37-1.37c-.4-.4-.92-.59-1.43-.59-.52 0-1.04.2-1.43.59L10.3 9.45l-7.72 7.72c-.78.78-.78 2.05 0 2.83L4 21.41c.39.39.9.59 1.41.59.51 0 1.02-.2 1.41-.59l7.78-7.78 2.81-2.81c.8-.78.8-2.07 0-2.86zM5.41 20L4 18.59l7.72-7.72 1.47 1.35L5.41 20z\"/>\n",
              "  </svg>\n",
              "      </button>\n",
              "      \n",
              "  <style>\n",
              "    .colab-df-container {\n",
              "      display:flex;\n",
              "      flex-wrap:wrap;\n",
              "      gap: 12px;\n",
              "    }\n",
              "\n",
              "    .colab-df-convert {\n",
              "      background-color: #E8F0FE;\n",
              "      border: none;\n",
              "      border-radius: 50%;\n",
              "      cursor: pointer;\n",
              "      display: none;\n",
              "      fill: #1967D2;\n",
              "      height: 32px;\n",
              "      padding: 0 0 0 0;\n",
              "      width: 32px;\n",
              "    }\n",
              "\n",
              "    .colab-df-convert:hover {\n",
              "      background-color: #E2EBFA;\n",
              "      box-shadow: 0px 1px 2px rgba(60, 64, 67, 0.3), 0px 1px 3px 1px rgba(60, 64, 67, 0.15);\n",
              "      fill: #174EA6;\n",
              "    }\n",
              "\n",
              "    [theme=dark] .colab-df-convert {\n",
              "      background-color: #3B4455;\n",
              "      fill: #D2E3FC;\n",
              "    }\n",
              "\n",
              "    [theme=dark] .colab-df-convert:hover {\n",
              "      background-color: #434B5C;\n",
              "      box-shadow: 0px 1px 3px 1px rgba(0, 0, 0, 0.15);\n",
              "      filter: drop-shadow(0px 1px 2px rgba(0, 0, 0, 0.3));\n",
              "      fill: #FFFFFF;\n",
              "    }\n",
              "  </style>\n",
              "\n",
              "      <script>\n",
              "        const buttonEl =\n",
              "          document.querySelector('#df-94bd0535-de3a-4c43-bfcd-d7ac30a04c24 button.colab-df-convert');\n",
              "        buttonEl.style.display =\n",
              "          google.colab.kernel.accessAllowed ? 'block' : 'none';\n",
              "\n",
              "        async function convertToInteractive(key) {\n",
              "          const element = document.querySelector('#df-94bd0535-de3a-4c43-bfcd-d7ac30a04c24');\n",
              "          const dataTable =\n",
              "            await google.colab.kernel.invokeFunction('convertToInteractive',\n",
              "                                                     [key], {});\n",
              "          if (!dataTable) return;\n",
              "\n",
              "          const docLinkHtml = 'Like what you see? Visit the ' +\n",
              "            '<a target=\"_blank\" href=https://colab.research.google.com/notebooks/data_table.ipynb>data table notebook</a>'\n",
              "            + ' to learn more about interactive tables.';\n",
              "          element.innerHTML = '';\n",
              "          dataTable['output_type'] = 'display_data';\n",
              "          await google.colab.output.renderOutput(dataTable, element);\n",
              "          const docLink = document.createElement('div');\n",
              "          docLink.innerHTML = docLinkHtml;\n",
              "          element.appendChild(docLink);\n",
              "        }\n",
              "      </script>\n",
              "    </div>\n",
              "  </div>\n",
              "  "
            ]
          },
          "metadata": {},
          "execution_count": 7
        }
      ]
    },
    {
      "metadata": {
        "trusted": false,
        "_uuid": "9ad315bedc05747fae1abfabacc8599b2ef5191e",
        "colab": {
          "base_uri": "https://localhost:8080/",
          "height": 295
        },
        "id": "as7p06JeWLOa",
        "outputId": "bd06546a-0a15-426d-b078-c1abb9e43f49"
      },
      "cell_type": "code",
      "source": [
        "plt.plot(range(0,num_episodes), Mdl[0])\n",
        "plt.title('Sum of V for all Actions at each Episode')\n",
        "plt.xlabel('Episode')\n",
        "plt.ylabel('Sum of V')\n",
        "plt.show()"
      ],
      "execution_count": 8,
      "outputs": [
        {
          "output_type": "display_data",
          "data": {
            "text/plain": [
              "<Figure size 432x288 with 1 Axes>"
            ],
            "image/png": "[encoded data removed]"
          },
          "metadata": {
            "needs_background": "light"
          }
        }
      ]
    },
    {
      "metadata": {
        "trusted": false,
        "_uuid": "959651b3ff1f479edd91fa7e272bf1a3e2688fea",
        "colab": {
          "base_uri": "https://localhost:8080/",
          "height": 295
        },
        "id": "xHo7W7YAWLOa",
        "outputId": "e3b5a214-4896-4053-ce62-39d104dfd4ff"
      },
      "cell_type": "code",
      "source": [
        "plt.plot(range(0,num_episodes), Mdl[1],range(0,num_episodes), Mdl[2])\n",
        "plt.title('Sum of V for the cheapest actions and others seperated at each Episode')\n",
        "plt.xlabel('Episode')\n",
        "plt.ylabel('Sum of V')\n",
        "plt.show()\n"
      ],
      "execution_count": 9,
      "outputs": [
        {
          "output_type": "display_data",
          "data": {
            "text/plain": [
              "<Figure size 432x288 with 1 Axes>"
            ],
            "image/png": "[encoded data removed]"
          },
          "metadata": {
            "needs_background": "light"
          }
        }
      ]
    },
    {
      "metadata": {
        "_uuid": "38f203c11214be3fb8657775f71a7fb50e583592",
        "id": "HFiInZDaWLOa"
      },
      "cell_type": "markdown",
      "source": [
        "#### So why is this happening and why did the model suggest the actions it did?\n",
        "\n",
        "To understand that, we need to disect the suggestions made by the model at each episode and how this relates to our return.\n",
        "\n",
        "Below, we have taken the optimal action for each state. We can see that the suggested actions do vary greatly between episodes and the model appears to decide which is wants to suggest very quickly.\n",
        "\n",
        "Therefore, I have plotted the total cost of the suggested actions at each episode and we can see the actions vary initially then smooth out and the resulting total cost is below our budget. This helps us understand what is going on greatly.\n",
        "\n",
        "So far, all we have told the model is to provide a selection that is below budget and it has. It has simply found a answer that is below the budget as required.\n",
        "\n",
        "So what is the next step? Before I introduce rewards I want to demonstrate what happens if I vary some of the parameters and what we can do if we decide to change what we want our model to suggest."
      ]
    },
    {
      "metadata": {
        "trusted": false,
        "_uuid": "3140ed63710d9e9730b7b0282635d3bf7e9884a9",
        "colab": {
          "base_uri": "https://localhost:8080/",
          "height": 1000
        },
        "id": "Gd7mBVpIWLOa",
        "outputId": "57ac8e59-f092-4326-a237-6824e22f2da3"
      },
      "cell_type": "code",
      "source": [
        "Ingredients = list(set(data['Ingredient']))\n",
        "actions = pd.DataFrame()\n",
        "\n",
        "for a in range(0, len(Ingredients)):   \n",
        "    individualactions = []\n",
        "    for i in range(0,num_episodes):    \n",
        "        individualactions = np.append(individualactions, Mdl[5][a+(i*(len(Ingredients)))])\n",
        "    actions[a] = individualactions\n",
        "    plt.plot(range(0,num_episodes), actions[a])\n",
        "    plt.title('Product for Ingredient: ' + str(a+1))\n",
        "    plt.xlabel('Episode')\n",
        "    plt.ylabel('Product')\n",
        "    plt.show()    \n",
        "\n",
        "    \n"
      ],
      "execution_count": 10,
      "outputs": [
        {
          "output_type": "display_data",
          "data": {
            "text/plain": [
              "<Figure size 432x288 with 1 Axes>"
            ],
            "image/png": "[encoded data removed]"
          },
          "metadata": {
            "needs_background": "light"
          }
        },
        {
          "output_type": "display_data",
          "data": {
            "text/plain": [
              "<Figure size 432x288 with 1 Axes>"
            ],
            "image/png": "[encoded data removed]"
          },
          "metadata": {
            "needs_background": "light"
          }
        },
        {
          "output_type": "display_data",
          "data": {
            "text/plain": [
              "<Figure size 432x288 with 1 Axes>"
            ],
            "image/png": "[encoded data removed]"
          },
          "metadata": {
            "needs_background": "light"
          }
        },
        {
          "output_type": "display_data",
          "data": {
            "text/plain": [
              "<Figure size 432x288 with 1 Axes>"
            ],
            "image/png": "[encoded data removed]"
          },
          "metadata": {
            "needs_background": "light"
          }
        }
      ]
    },
    {
      "metadata": {
        "trusted": false,
        "_uuid": "17910040daf6184d63349fdb561f452dd6d5f575",
        "colab": {
          "base_uri": "https://localhost:8080/",
          "height": 295
        },
        "id": "FPTQt99rWLOa",
        "outputId": "69ece154-779d-4a89-879c-20a61a1b1584"
      },
      "cell_type": "code",
      "source": [
        "actions2 = actions\n",
        "actions2['Product1'] = actions2.iloc[:,0]+10\n",
        "actions2['Product2'] = actions2.iloc[:,1]+20\n",
        "actions2['Product3'] = actions2.iloc[:,2]+30\n",
        "actions2['Product4'] = actions2.iloc[:,3]+40\n",
        "\n",
        "actions3 = actions2.merge(data[['QMerged_label','Real_Cost']],left_on = 'Product1',right_on = 'QMerged_label', how = 'left')\n",
        "actions4 = actions3.merge(data[['QMerged_label','Real_Cost']],left_on = 'Product2',right_on = 'QMerged_label', how = 'left')\n",
        "actions5 = actions4.merge(data[['QMerged_label','Real_Cost']],left_on = 'Product3',right_on = 'QMerged_label', how = 'left')\n",
        "actions6 = actions5.merge(data[['QMerged_label','Real_Cost']],left_on = 'Product4',right_on = 'QMerged_label', how = 'left')\n",
        "\n",
        "\n",
        "actions6['Total_Cost'] = actions6.iloc[:,9] + actions6.iloc[:,11] + actions6.iloc[:,13] + actions6.iloc[:,15]\n",
        "actions6 = actions6.iloc[:,[0,1,2,3,-1]]\n",
        "\n",
        "actions6 = actions6.iloc[:num_episodes]\n",
        "\n",
        "plt.plot(range(0,num_episodes), actions6['Total_Cost'])\n",
        "plt.plot([0, num_episodes], [budget, budget], 'k-', lw=2)\n",
        "plt.title('Total Real Cost of Best Products at each Episode')\n",
        "plt.xlabel('Episode')\n",
        "plt.ylabel('Total Real Cost (£)')\n",
        "plt.ylim([0,budget+10])\n",
        "plt.show()"
      ],
      "execution_count": 11,
      "outputs": [
        {
          "output_type": "display_data",
          "data": {
            "text/plain": [
              "<Figure size 432x288 with 1 Axes>"
            ],
            "image/png": "[encoded data removed]"
          },
          "metadata": {
            "needs_background": "light"
          }
        }
      ]
    },
    {
      "metadata": {
        "collapsed": true,
        "_uuid": "8af8badd6c103b4f2a83e88ac4b102220f4b0306",
        "id": "Zo9GRjiqWLOg"
      },
      "cell_type": "markdown",
      "source": [
        "## Changing our Model's Aim to Find the Cheapest Combination of Products"
      ]
    },
    {
      "metadata": {
        "_uuid": "914c0fb8dd790d58228747f8051b9cdffc1b9355",
        "id": "ChG_AppyWLOg"
      },
      "cell_type": "markdown",
      "source": [
        "#### This will now more clearly seperate the cheapest products from the rest and nearly always provides us with the cheapest combination of products."
      ]
    },
    {
      "metadata": {
        "collapsed": true,
        "_uuid": "a3a66de37cba96621cdae1c522cb631f8f64860f",
        "id": "X5Lk8l_aWLOg"
      },
      "cell_type": "markdown",
      "source": [
        "To do this, all we need do is adapt our model slightly to provide a terminal reward that is relative to how far below or above budget this combination in the episode is. \n",
        "\n",
        "This can done by changing the calculation for return to:\n",
        "\n",
        "\n",
        "\n",
        "        if(budget >= episode2['Real_Cost'].sum()):\n",
        "            Return = (budget - episode2['Real_Cost'].sum())\n",
        "        else:\n",
        "            Return = (budget - episode2['Real_Cost'].sum())\n",
        "            \n",
        "We now see that the seperation between the cheapest products and the others is emphasised.\n",
        "\n",
        "This really demonstrates the flexibility of reinforcement learning and how easy it can be to adapt the model based on your aims."
      ]
    },
    {
      "metadata": {
        "collapsed": true,
        "trusted": false,
        "_uuid": "85871506245698835e92918b64318f72f41c2340",
        "id": "KNEaEYgtWLOg"
      },
      "cell_type": "code",
      "source": [
        "def MCModelv2(data, alpha, e, epsilon, budget, reward):\n",
        "    # Define the States\n",
        "    Ingredients = list(set(data['Ingredient']))\n",
        "    # Initialise V_0\n",
        "    V0 = data['V_0']\n",
        "    data['V'] = V0\n",
        "    output = []\n",
        "    output1 = []\n",
        "    output2 = []\n",
        "    actioninfull = []\n",
        "    #Interate over the number of episodes specified\n",
        "    for e in range(0,e):\n",
        "        \n",
        "        episode_run = []\n",
        "        #Introduce epsilon-greedy selection, we randomly select the first episode as V_0(a) = 0 for all actions\n",
        "        epsilon = epsilon\n",
        "        if e == 0:\n",
        "            for i in range(0,len(Ingredients)):\n",
        "                episode_run = np.append(episode_run,np.random.random_integers(low = 1, high = sum(1 for p in data.iloc[:, 0] if p == i+1 ), size = None))\n",
        "            episode_run = episode_run.astype(int)\n",
        "        \n",
        "        else:\n",
        "            for i in range(0,len(Ingredients)):\n",
        "                greedyselection = np.random.random_integers(low = 1, high =10)\n",
        "                if greedyselection <= (epsilon)*10:\n",
        "                    episode_run = np.append(episode_run,np.random.random_integers(low = 1, high = sum(1 for p in data.iloc[:, 0] if p == i+1 ), size = None))\n",
        "                else:\n",
        "                    data_I = data[data['Ingredient'] == (i+1)] \n",
        "                    MaxofVforI = data_I[data_I['V'] == data_I['V'].max() ]['Product']\n",
        "                    #If multiple max values, take first\n",
        "                    MaxofVforI = MaxofVforI.values[0]\n",
        "                    episode_run = np.append(episode_run, MaxofVforI)\n",
        "                    \n",
        "                episode_run = episode_run.astype(int)\n",
        "                \n",
        "               \n",
        "           \n",
        "        episode = pd.DataFrame({'Ingredient' : Ingredients, 'Product': episode_run})    \n",
        "        episode['Merged_label'] =  (episode['Ingredient']*10 + episode['Product']).astype(float)\n",
        "        data['QMerged_label'] = (data['QMerged_label']).astype(float)\n",
        "        data['Reward'] = reward\n",
        "        episode2 =  episode.merge(data[['QMerged_label','Real_Cost','Reward']], left_on='Merged_label',right_on='QMerged_label', how = 'inner')\n",
        "        data = data.drop('Reward',1)\n",
        "        \n",
        "        # Calculate our terminal reward\n",
        "        if(budget >= episode2['Real_Cost'].sum()):\n",
        "            Return = (budget - episode2['Real_Cost'].sum())  \n",
        "        else:\n",
        "            Return = (budget - episode2['Real_Cost'].sum())\n",
        "        episode2 = episode2.drop('Reward',1)\n",
        "        episode2['Return'] = Return\n",
        "        \n",
        "        # Apply update rule to actions that were involved in obtaining terminal reward \n",
        "        data = data.merge(episode2[['Merged_label','Return']], left_on='QMerged_label',right_on='Merged_label', how = 'outer')\n",
        "        data['Return'] = data['Return'].fillna(0)\n",
        "        for v in range(0,len(data)):\n",
        "            if data.iloc[v,7] == 0:\n",
        "                data.iloc[v,5] = data.iloc[v,5] \n",
        "            else:\n",
        "                data.iloc[v,5]  = data.iloc[v,5]  + alpha*( (data.iloc[v,7]/len(Ingredients)) - data.iloc[v,5] )\n",
        "                \n",
        "        # Output table    \n",
        "        data = data.drop('Merged_label',1)\n",
        "        data = data.drop('Return',1)\n",
        "        \n",
        "        # Output is the Sum of V(a) for all episodes\n",
        "        output  = np.append(output, data.iloc[:,-1].sum())\n",
        "        \n",
        "        # Output 1 and 2 are the Sum of V(a) for for the cheapest actions and rest respectively\n",
        "        # I did this so we can copare how they converge whilst applying to such a small sample problem\n",
        "        output1 = np.append(output1, data.iloc[[1,2,4,8],-1].sum())\n",
        "        output2 = np.append(output2, data.iloc[[0,3,5,6,7],-1].sum())\n",
        "        \n",
        "        # Ouput to optimal action from the model based on highest V(a)\n",
        "        action = pd.DataFrame(data.groupby('Ingredient')['V'].max())\n",
        "        action2 = action.merge(data, left_on = 'V',right_on = 'V', how = 'inner')\n",
        "        action3 = action2[['Ingredient','Product']]\n",
        "        action3 = action3.groupby('Ingredient')['Product'].apply(lambda x :x.iloc[np.random.randint(0, len(x))])\n",
        "        \n",
        "        # Output the optimal action at each episode so we can see how this changes over time\n",
        "        actioninfull = np.append(actioninfull, action3)\n",
        "        actioninfull = actioninfull.astype(int)\n",
        "        \n",
        "        # Rename for clarity\n",
        "        SumofV = output\n",
        "        SumofVForCheapest = output1\n",
        "        SumofVForExpensive = output2\n",
        "        OptimalActions = action3\n",
        "        ActionsSelectedinTime = actioninfull\n",
        "        \n",
        "    return(SumofV, SumofVForCheapest, SumofVForExpensive, OptimalActions, data, ActionsSelectedinTime)\n",
        "\n",
        "\n"
      ],
      "execution_count": 1,
      "outputs": []
    },
    {
      "metadata": {
        "trusted": false,
        "_uuid": "cbdd0a1f3266aa0065504c7e46609298c2ee1e78",
        "id": "DD02Y1fxWLOg",
        "colab": {
          "base_uri": "https://localhost:8080/",
          "height": 695
        },
        "outputId": "64a5bf51-6f80-4805-f105-499931f648f1"
      },
      "cell_type": "code",
      "source": [
        "##### Make budget reasonably small\n",
        "budget9 = 23\n",
        "\n",
        "\n",
        "alpha9 = 0.05\n",
        "num_episodes9 = 1000\n",
        "epsilon9 = 0.2\n",
        "\n",
        "\n",
        "# Currently not using a reward\n",
        "reward9 = [0,0,0,0,0,0,0,0,0]\n",
        "\n",
        "start_time = time.time()\n",
        "\n",
        "Mdl9 = MCModelv2(data=data, alpha = alpha9, e = num_episodes9,epsilon = epsilon9, budget = budget9, reward = reward9)\n",
        "\n",
        "print(\"--- %s seconds ---\" % (time.time() - start_time))\n",
        "\n",
        "print(Mdl9[3])\n",
        "\n",
        "\n",
        "plt.plot(range(0,num_episodes9), Mdl9[0])\n",
        "plt.title('Sum of V for all Actions at each Episode')\n",
        "plt.xlabel('Episode')\n",
        "plt.ylabel('Sum of V')\n",
        "plt.show()\n",
        "\n",
        "\n",
        "plt.plot(range(0,num_episodes9), Mdl9[1],range(0,num_episodes9), Mdl9[2])\n",
        "plt.title('Sum of V for the cheapest actions and others seperated at each Episode')\n",
        "plt.xlabel('Episode')\n",
        "plt.ylabel('Sum of V')\n",
        "plt.show()"
      ],
      "execution_count": 12,
      "outputs": [
        {
          "output_type": "stream",
          "name": "stdout",
          "text": [
            "--- 23.189939498901367 seconds ---\n",
            "Ingredient\n",
            "1    2\n",
            "2    1\n",
            "3    1\n",
            "4    3\n",
            "Name: Product, dtype: int64\n"
          ]
        },
        {
          "output_type": "display_data",
          "data": {
            "text/plain": [
              "<Figure size 432x288 with 1 Axes>"
            ],
            "image/png": "[encoded data removed]"
          },
          "metadata": {
            "needs_background": "light"
          }
        },
        {
          "output_type": "display_data",
          "data": {
            "text/plain": [
              "<Figure size 432x288 with 1 Axes>"
            ],
            "image/png": "[encoded data removed]"
          },
          "metadata": {
            "needs_background": "light"
          }
        }
      ]
    },
    {
      "metadata": {
        "_uuid": "75fc1ff86949bac4c039157db6182aa91ccf974b",
        "id": "-_zjnYqZWLOg"
      },
      "cell_type": "markdown",
      "source": [
        "# Introducing Preferences"
      ]
    },
    {
      "metadata": {
        "_uuid": "9d310dfb4a4bd12c40c22c7e66d45a7d9063fdf7",
        "id": "ETZsNYtvWLOh"
      },
      "cell_type": "markdown",
      "source": [
        "So far, we have not included any personal preferences towards products. If we wanted to include this, we can simply introduce rewards for each product whilst still having a terminal reward that encourages the model to be below budget. \n",
        "\n",
        "\n",
        "This can done by changing the calculation for return to:\n",
        "\n",
        "\n",
        "\n",
        "        if(budget >= episode2['Real_Cost'].sum()):\n",
        "            Return = 1 + (episode2['Reward'].sum())/len(Ingredients)\n",
        "        else:\n",
        "            Return = -1 + (episode2['Reward'].sum())/len(Ingredients)\n",
        "            \n",
        "So why is our return calculation now like this? \n",
        "\n",
        "Well firstly, we still want our combination to be below budget so we provide the positive and negative rewards for being above and below budget respectively.\n",
        "\n",
        "Next, we want to account for the reward of each product. For our purposes, we define the rewards to be a value between 0 and 1. MC return is formally calculated using the following:\n",
        "\n",
        "\n",
        "$$R =  \\sum_{k=0}^{Num Actions} \\gamma^{k-1} r_{k}  $$\n",
        "\n",
        "\n",
        "$\\gamma$ is the discount factor and this tells us how much we value later steps compared to earlier steps. In our case, all actions are equally as important to reaching the desired outcome of being below budget so we set $\\gamma = 1$. \n",
        "\n",
        "However, to ensure that we reach the primary goal of being below budget, we take the average of the sum of the rewards for each action so that this will always be less than 1 or -1 respectively.\n",
        "\n",
        "\n"
      ]
    },
    {
      "metadata": {
        "collapsed": true,
        "trusted": false,
        "_uuid": "348726e8f6a698ed6bc24854b21b771760af8513",
        "id": "Zx8ATXISWLOh"
      },
      "cell_type": "code",
      "source": [
        "def MCModelv3(data, alpha, e, epsilon, budget, reward):\n",
        "    # Define the States\n",
        "    Ingredients = list(set(data['Ingredient']))\n",
        "    # Initialise V_0\n",
        "    V0 = data['V_0']\n",
        "    data['V'] = V0\n",
        "    output = []\n",
        "    output1 = []\n",
        "    output2 = []\n",
        "    actioninfull = []\n",
        "    #Interate over the number of episodes specified\n",
        "    for e in range(0,e):\n",
        "        \n",
        "        episode_run = []\n",
        "        #Introduce epsilon-greedy selection, we randomly select the first episode as V_0(a) = 0 for all actions\n",
        "        epsilon = epsilon\n",
        "        if e == 0:\n",
        "            for i in range(0,len(Ingredients)):\n",
        "                episode_run = np.append(episode_run,np.random.random_integers(low = 1, high = sum(1 for p in data.iloc[:, 0] if p == i+1 ), size = None))\n",
        "            episode_run = episode_run.astype(int)\n",
        "        \n",
        "        else:\n",
        "            for i in range(0,len(Ingredients)):\n",
        "                greedyselection = np.random.random_integers(low = 1, high =10)\n",
        "                if greedyselection <= (epsilon)*10:\n",
        "                    episode_run = np.append(episode_run,np.random.random_integers(low = 1, high = sum(1 for p in data.iloc[:, 0] if p == i+1 ), size = None))\n",
        "                else:\n",
        "                    data_I = data[data['Ingredient'] == (i+1)] \n",
        "                    MaxofVforI = data_I[data_I['V'] == data_I['V'].max() ]['Product']\n",
        "                    #If multiple max values, take first\n",
        "                    MaxofVforI = MaxofVforI.values[0]\n",
        "                    episode_run = np.append(episode_run, MaxofVforI)\n",
        "                    \n",
        "                episode_run = episode_run.astype(int)\n",
        "                \n",
        "               \n",
        "           \n",
        "        episode = pd.DataFrame({'Ingredient' : Ingredients, 'Product': episode_run})    \n",
        "        episode['Merged_label'] =  (episode['Ingredient']*10 + episode['Product']).astype(float)\n",
        "        data['QMerged_label'] = (data['QMerged_label']).astype(float)\n",
        "        data['Reward'] = reward\n",
        "        episode2 =  episode.merge(data[['QMerged_label','Real_Cost','Reward']], left_on='Merged_label',right_on='QMerged_label', how = 'inner')\n",
        "        data = data.drop('Reward',1)\n",
        "        \n",
        "        # Calculate our terminal reward\n",
        "        if(budget >= episode2['Real_Cost'].sum()):\n",
        "            Return = 1 + (episode2['Reward'].sum())/(len(Ingredients))\n",
        "        else:\n",
        "            Return = -1 + (episode2['Reward'].sum())/(len(Ingredients))\n",
        "        episode2 = episode2.drop('Reward',1)\n",
        "        episode2['Return'] = Return\n",
        "        \n",
        "        # Apply update rule to actions that were involved in obtaining terminal reward \n",
        "        data = data.merge(episode2[['Merged_label','Return']], left_on='QMerged_label',right_on='Merged_label', how = 'outer')\n",
        "        data['Return'] = data['Return'].fillna(0)\n",
        "        for v in range(0,len(data)):\n",
        "            if data.iloc[v,7] == 0:\n",
        "                data.iloc[v,5] = data.iloc[v,5] \n",
        "            else:\n",
        "                data.iloc[v,5]  = data.iloc[v,5]  + alpha*( (data.iloc[v,7]/len(Ingredients)) - data.iloc[v,5] )\n",
        "                \n",
        "        # Output table    \n",
        "        data = data.drop('Merged_label',1)\n",
        "        data = data.drop('Return',1)\n",
        "        \n",
        "        # Output is the Sum of V(a) for all episodes\n",
        "        output  = np.append(output, data.iloc[:,-1].sum())\n",
        "        \n",
        "        # Output 1 and 2 are the Sum of V(a) for for the cheapest actions and rest respectively\n",
        "        # I did this so we can copare how they converge whilst applying to such a small sample problem\n",
        "        output1 = np.append(output1, data.iloc[[1,2,4,8],-1].sum())\n",
        "        output2 = np.append(output2, data.iloc[[0,3,5,6,7],-1].sum())\n",
        "        \n",
        "        # Ouput to optimal action from the model based on highest V(a)\n",
        "        action = pd.DataFrame(data.groupby('Ingredient')['V'].max())\n",
        "        action2 = action.merge(data, left_on = 'V',right_on = 'V', how = 'inner')\n",
        "        action3 = action2[['Ingredient','Product']]\n",
        "        action3 = action3.groupby('Ingredient')['Product'].apply(lambda x :x.iloc[np.random.randint(0, len(x))])\n",
        "        \n",
        "        # Output the optimal action at each episode so we can see how this changes over time\n",
        "        actioninfull = np.append(actioninfull, action3)\n",
        "        actioninfull = actioninfull.astype(int)\n",
        "        \n",
        "        # Rename for clarity\n",
        "        SumofV = output\n",
        "        SumofVForCheapest = output1\n",
        "        SumofVForExpensive = output2\n",
        "        OptimalActions = action3\n",
        "        ActionsSelectedinTime = actioninfull\n",
        "        \n",
        "    return(SumofV, SumofVForCheapest, SumofVForExpensive, OptimalActions, data, ActionsSelectedinTime)\n",
        "\n",
        "\n"
      ],
      "execution_count": 13,
      "outputs": []
    },
    {
      "metadata": {
        "_uuid": "412f89ca9de4f2dff99b890a0999c4cd75bd54fc",
        "id": "r3FKnoZHWLOh"
      },
      "cell_type": "markdown",
      "source": [
        "## Introducing Preferences using Rewards"
      ]
    },
    {
      "metadata": {
        "_uuid": "7f1c816ec1938b6e870954bf46ad69568aa17f3e",
        "id": "FMWlwijKWLOh"
      },
      "cell_type": "markdown",
      "source": [
        "Say we decided we wanted product a1 and b2, we could add a reward to each. Let us see what happens if we do this in the output and graphs below. We have changed out budget slightly as a1 and b2 add up to £21 which means there is no way to select two more products that would put it below a budget of £23.\n",
        "\n",
        "Applying a very high reward forces the modle to pick a1 and b2 then work around to find products that will put it under our budget.\n",
        "\n",
        "I have kept in the comparison between the cheapest products and the rest to show that the model now is not valuing the cheapest once more. Instead we get the output a1, b2, c1 and d3 which has a total cost of £25. This is both below our budget and includes our preferred products.\n"
      ]
    },
    {
      "metadata": {
        "trusted": false,
        "_uuid": "abe0a2a481ba9151b3fbf18af2fff46e67ae69e8",
        "id": "SgFmCjB-WLOh",
        "colab": {
          "base_uri": "https://localhost:8080/",
          "height": 695
        },
        "outputId": "b9324669-9c00-471a-bc3c-fa5742084410"
      },
      "cell_type": "code",
      "source": [
        "# Introduce simple rewards\n",
        "budget10 = 30\n",
        "\n",
        "\n",
        "alpha10 = 0.05\n",
        "num_episodes10 = 1000\n",
        "epsilon10 = 0.2\n",
        "\n",
        "\n",
        "# Currently using a reward\n",
        "reward10 = [0.8,0,0,0.8,0,0,0,0,0]\n",
        "\n",
        "start_time = time.time()\n",
        "\n",
        "Mdl10 = MCModelv3(data=data, alpha = alpha10, e = num_episodes10,epsilon = epsilon10, budget = budget10, reward = reward10)\n",
        "\n",
        "print(\"--- %s seconds ---\" % (time.time() - start_time))\n",
        "\n",
        "print(Mdl10[3])\n",
        "\n",
        "\n",
        "plt.plot(range(0,num_episodes10), Mdl10[0])\n",
        "plt.title('Sum of V for all Actions at each Episode')\n",
        "plt.xlabel('Episode')\n",
        "plt.ylabel('Sum of V')\n",
        "plt.show()\n",
        "\n",
        "\n",
        "plt.plot(range(0,num_episodes10), Mdl10[1],range(0,num_episodes10), Mdl10[2])\n",
        "plt.title('Sum of V for the cheapest actions and others seperated at each Episode')\n",
        "plt.xlabel('Episode')\n",
        "plt.ylabel('Sum of V')\n",
        "plt.show()"
      ],
      "execution_count": 14,
      "outputs": [
        {
          "output_type": "stream",
          "name": "stdout",
          "text": [
            "--- 21.409175872802734 seconds ---\n",
            "Ingredient\n",
            "1    2\n",
            "2    2\n",
            "3    2\n",
            "4    3\n",
            "Name: Product, dtype: int64\n"
          ]
        },
        {
          "output_type": "display_data",
          "data": {
            "text/plain": [
              "<Figure size 432x288 with 1 Axes>"
            ],
            "image/png": "[encoded data removed]"
          },
          "metadata": {
            "needs_background": "light"
          }
        },
        {
          "output_type": "display_data",
          "data": {
            "text/plain": [
              "<Figure size 432x288 with 1 Axes>"
            ],
            "image/png": "[encoded data removed]"
          },
          "metadata": {
            "needs_background": "light"
          }
        }
      ]
    },
    {
      "metadata": {
        "_uuid": "a2cc7e023d5e10d38e7964daa9147a3afd866dbe",
        "id": "MYvaa6tSWLOi"
      },
      "cell_type": "markdown",
      "source": [
        "Let's try one more reward signal. This time, I give some reward to each but want it to provide the best combination from my rewards that still keeps us below budget.\n",
        "\n",
        "We have the following rewards:\n",
        "\n",
        "|Action|Reward|\n",
        "|:----:|:----:|\n",
        "|a1    | 0.8  |\n",
        "|a2    | 0.4  |\n",
        "|b1    | 0.5  |\n",
        "|b2    | 0.6  |\n",
        "|c1    | 0.4  |\n",
        "|c2    | 0.4  |\n",
        "|d1    | 0.6  |\n",
        "|d2    | 0.2  |\n",
        "|d3    | 0.4  |\n",
        "\n",
        "Running this model a few times shows that it would:\n",
        "- Often select a1 as this has a much higher reward\n",
        "- Would always pick c1 as the rewards are the same but is cheaper\n",
        "- Had a hard time selecting between b1 and b2 as the rewards are 0.5 and 0.6 but the costs are £8 and £11 respectively\n",
        "- Would typically select d3 as being significantly cheaper than d1 even though reward is slightly less"
      ]
    },
    {
      "metadata": {
        "trusted": false,
        "_uuid": "51d29bddacea2de315caf309fc05b621f322446a",
        "id": "gk5DC8S8WLOi",
        "colab": {
          "base_uri": "https://localhost:8080/",
          "height": 695
        },
        "outputId": "9caf6a04-e77f-4c6a-ef19-dc393d62e12a"
      },
      "cell_type": "code",
      "source": [
        "# Add rewards for more actions\n",
        "budget11 = 30\n",
        "\n",
        "\n",
        "alpha11 = 0.05\n",
        "num_episodes11 = 1000\n",
        "epsilon11 = 0.2\n",
        "\n",
        "\n",
        "# Currently using a reward\n",
        "reward11 = [0.8,0.4,0.5,0.6,0.4,0.4,0.6,0.2,0.4]\n",
        "\n",
        "start_time = time.time()\n",
        "\n",
        "Mdl11 = MCModelv3(data=data, alpha = alpha11, e = num_episodes11,epsilon = epsilon11, budget = budget11, reward = reward11)\n",
        "\n",
        "print(\"--- %s seconds ---\" % (time.time() - start_time))\n",
        "\n",
        "print(Mdl11[3])\n",
        "\n",
        "\n",
        "plt.plot(range(0,num_episodes11), Mdl11[0])\n",
        "plt.title('Sum of V for all Actions at each Episode')\n",
        "plt.xlabel('Episode')\n",
        "plt.ylabel('Sum of V')\n",
        "plt.show()\n",
        "\n",
        "\n",
        "plt.plot(range(0,num_episodes11), Mdl10[1],range(0,num_episodes11), Mdl11[2])\n",
        "plt.title('Sum of V for the cheapest actions and others seperated at each Episode')\n",
        "plt.xlabel('Episode')\n",
        "plt.ylabel('Sum of V')\n",
        "plt.show()"
      ],
      "execution_count": 15,
      "outputs": [
        {
          "output_type": "stream",
          "name": "stdout",
          "text": [
            "--- 22.144529581069946 seconds ---\n",
            "Ingredient\n",
            "1    1\n",
            "2    1\n",
            "3    1\n",
            "4    3\n",
            "Name: Product, dtype: int64\n"
          ]
        },
        {
          "output_type": "display_data",
          "data": {
            "text/plain": [
              "<Figure size 432x288 with 1 Axes>"
            ],
            "image/png": "[encoded data removed]"
          },
          "metadata": {
            "needs_background": "light"
          }
        },
        {
          "output_type": "display_data",
          "data": {
            "text/plain": [
              "<Figure size 432x288 with 1 Axes>"
            ],
            "image/png": "[encoded data removed]"
          },
          "metadata": {
            "needs_background": "light"
          }
        }
      ]
    },
    {
      "metadata": {
        "_uuid": "bafbf50265c6e718b600251e4d19fcf4dd886944",
        "id": "FmR-Nk6kWLOi"
      },
      "cell_type": "markdown",
      "source": [
        "# Conclusion\n",
        "\n",
        "A Monte Carlo Reinforcement Learning model is built to: 1) recommend products below a budget, 2) recommend the cheapest products and 3) recommened the best products based on a preference that is still below a budget.\n",
        "\n",
        "\n",
        "\n",
        "\n",
        "\n"
      ]
    }
  ],
  "metadata": {
    "anaconda-cloud": {},
    "kernelspec": {
      "display_name": "Python 3",
      "language": "python",
      "name": "python3"
    },
    "language_info": {
      "name": "python",
      "version": "3.6.4",
      "mimetype": "text/x-python",
      "codemirror_mode": {
        "name": "ipython",
        "version": 3
      },
      "pygments_lexer": "ipython3",
      "nbconvert_exporter": "python",
      "file_extension": ".py"
    },
    "colab": {
      "provenance": [],
      "include_colab_link": true
    }
  },
  "nbformat": 4,
  "nbformat_minor": 0
}